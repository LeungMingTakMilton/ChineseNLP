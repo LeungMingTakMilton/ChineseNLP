{
 "cells": [
  {
   "cell_type": "code",
   "execution_count": 1,
   "metadata": {
    "collapsed": true
   },
   "outputs": [],
   "source": [
    "input_list = ['all', 'this', 'happened', 'more', 'or', 'less']"
   ]
  },
  {
   "cell_type": "code",
   "execution_count": 2,
   "metadata": {
    "collapsed": true
   },
   "outputs": [],
   "source": [
    "def find_bigrams(input_list):\n",
    "  return zip(input_list, input_list[1:])"
   ]
  },
  {
   "cell_type": "code",
   "execution_count": 6,
   "metadata": {
    "collapsed": false
   },
   "outputs": [
    {
     "data": {
      "text/plain": [
       "[('all', 'this'),\n",
       " ('this', 'happened'),\n",
       " ('happened', 'more'),\n",
       " ('more', 'or'),\n",
       " ('or', 'less')]"
      ]
     },
     "execution_count": 6,
     "metadata": {},
     "output_type": "execute_result"
    }
   ],
   "source": [
    "# bigrams\n",
    "zip(input_list, input_list[1:])"
   ]
  },
  {
   "cell_type": "code",
   "execution_count": 4,
   "metadata": {
    "collapsed": false
   },
   "outputs": [
    {
     "data": {
      "text/plain": [
       "[('all', 'this', 'happened'),\n",
       " ('this', 'happened', 'more'),\n",
       " ('happened', 'more', 'or'),\n",
       " ('more', 'or', 'less')]"
      ]
     },
     "execution_count": 4,
     "metadata": {},
     "output_type": "execute_result"
    }
   ],
   "source": [
    "# trigrams\n",
    "zip(input_list, input_list[1:], input_list[2:])"
   ]
  },
  {
   "cell_type": "code",
   "execution_count": 12,
   "metadata": {
    "collapsed": false
   },
   "outputs": [],
   "source": [
    "def ngrams(input, n):\n",
    "  input = input.split(' ')\n",
    "  output = {}\n",
    "  for i in range(len(input)-n+1):\n",
    "    g = ' '.join(input[i:i+n])\n",
    "    output.setdefault(g, 0)\n",
    "    output[g] += 1\n",
    "    return output"
   ]
  },
  {
   "cell_type": "code",
   "execution_count": 13,
   "metadata": {
    "collapsed": false
   },
   "outputs": [],
   "source": [
    "output=ngrams('a b c d', 3)"
   ]
  },
  {
   "cell_type": "code",
   "execution_count": 25,
   "metadata": {
    "collapsed": false
   },
   "outputs": [
    {
     "name": "stdout",
     "output_type": "stream",
     "text": [
      "a b c: 1 \n"
     ]
    }
   ],
   "source": [
    "for words in output:\n",
    "    print \"%s: %d \" % (words,output.get(words))"
   ]
  },
  {
   "cell_type": "code",
   "execution_count": 59,
   "metadata": {
    "collapsed": false
   },
   "outputs": [],
   "source": [
    "import re"
   ]
  },
  {
   "cell_type": "code",
   "execution_count": 60,
   "metadata": {
    "collapsed": false
   },
   "outputs": [
    {
     "data": {
      "text/plain": [
       "['a1', ',a2', 'a3', 'a4', 'a5']"
      ]
     },
     "execution_count": 60,
     "metadata": {},
     "output_type": "execute_result"
    }
   ],
   "source": [
    "re.split(\"!|\\?|\\.|！|？|。\",\"a1!,a2?a3.a4！a5\")"
   ]
  },
  {
   "cell_type": "code",
   "execution_count": 61,
   "metadata": {
    "collapsed": true
   },
   "outputs": [],
   "source": [
    "sentence=\"這種會計計算必須倚靠大量全球貿易數字，以及研究各種商品的排放量數據，過程十分繁複，需時多年，所以少見公開研究報告，2010年美國國家科學院終於刊登了一篇相關文章，以2004年資料為基礎（註1），十分意外地發現，香港（不是國家，但是一個經濟體）出現在報告的顯眼位置，香港因輸入商品而在外地的二氧化碳總排放量是每年6,400萬公噸（圖1），全球排名第八，只輸給美國、日本、英國、德國、法國、意大利和西班牙七個大國！香港這個地方真不能算細小。\""
   ]
  },
  {
   "cell_type": "code",
   "execution_count": 62,
   "metadata": {
    "collapsed": false
   },
   "outputs": [
    {
     "name": "stdout",
     "output_type": "stream",
     "text": [
      "這種會計計算必須倚靠大量全球貿易數字，以及研究各種商品的排放量數據，過程十分繁複，需時多年，所以少見公開研究報告，2010年美國國家科學院終於刊登了一篇相關文章，以2004年資料為基礎（註1），十分意外地發現，香港（不是國家，但是一個經濟體）出現在報告的顯眼位置，香港因輸入商品而在外地的二氧化碳總排放量是每年6,400萬公噸（圖1），全球排名第八，只輸給美國、日本、英國、德國、法國、意大利和西班牙七個大國\n",
      "香港這個地方真不能算細小\n",
      "\n"
     ]
    }
   ],
   "source": [
    "for s in re.split(\"!|\\?|\\.|！|？|。\",sentence):\n",
    "    print s"
   ]
  },
  {
   "cell_type": "code",
   "execution_count": 63,
   "metadata": {
    "collapsed": false
   },
   "outputs": [
    {
     "name": "stdout",
     "output_type": "stream",
     "text": [
      "這種會計計算必須倚靠大量全球貿易數字，以及研究各種商品的排放量數據，過程十分繁複，需時多年，所以少見公開研究報告，2010年美國國家科學院終於刊登了一篇相關文章，以2004年資料為基礎（註1），十分意外地發現，香港（不是國家，但是一個經濟體）出現在報告的顯眼位置，香港因輸入商品而在外地的二氧化碳總排放量是每年6,400萬公噸（圖1），全球排名第八，只輸給美國、日本、英國、德國、法國、意大利和西班牙七個大國！香港這個地方真不能算細小。\n"
     ]
    }
   ],
   "source": [
    "print sentence"
   ]
  },
  {
   "cell_type": "code",
   "execution_count": 67,
   "metadata": {
    "collapsed": true
   },
   "outputs": [],
   "source": [
    "from readability.readability import Document\n",
    "import requests\n",
    "# html = requests.get('http://initiumlab.com/').content\n",
    "html = requests.get('http://thestandnews.com/politics/%E5%A6%82%E4%BD%95%E7%BF%BB%E8%AD%AF-critical-thinking/').content\n",
    "readable_article = Document(html).summary()\n",
    "readable_title = Document(html).short_title()"
   ]
  },
  {
   "cell_type": "code",
   "execution_count": 69,
   "metadata": {
    "collapsed": false
   },
   "outputs": [
    {
     "name": "stdout",
     "output_type": "stream",
     "text": [
      "<html><body><div><div class=\"article-content\"><p>【文：劉彥方】</p><p>根據<a href=\"http://news.mingpao.com/ins1505171431834633103\" target=\"_blank\">明報 2015年5月17日報導</a>，葉劉淑儀於商台節目中批評香港教育局把「critical thinking」譯作「批判思考」。她認為這是錯誤的，容易令年輕人以為思考就是為了批判社會，使他們「先天與建制對立」。一個星期後，嶺大校長鄭國漢在培僑中學畢業禮致辭時，也提出類似的講法，並認為「critical thinking」的正確翻譯應該是「<a href=\"http://news.mingpao.com/ins1505241432450856493\" target=\"_blank\">慎思明辨</a>」。</p><p>葉劉淑儀不滿意「critical thinking」的翻譯，並非近期的事。<a href=\"http://life.mingpao.com/cfm/learn3b.cfm?File=20070509/lnall/gfc1.txt\" target=\"_blank\">早在 2007 年她已經有這樣的看法</a>，2008年亦曾經在立法會要求政府把「critical thinking」的官方翻譯<a href=\"http://www.legco.gov.hk/yr08-09/chinese/panels/ed/papers/edcb2-222-1-c.pdf\" target=\"_blank\">改為「明辨性思考」或「分辨性思考」</a>。2014年12月，<a href=\"http://www.info.gov.hk/gia/general/201412/03/P201412030516.htm\" target=\"_blank\">她再重提要求</a>，並在立法會文件中引述相信是我在港大《<a href=\"http://philosophy.hku.hk/think/critical/ct.php\" target=\"_blank\">思方網</a>》的觀點，指出批判思考並非要我們刻意不停找別人錯處。[註5,6]</p><p>建制人士要為「critical thinking」改名，當然背後可能有政治動機。朗天便曾經在<a href=\"http://news.mingpao.com/pns1412071417889903515\" target=\"_blank\">明報</a>撰文，認為這只是「語言偽術」，目的是要打壓年輕人的獨立思考，製造「河蟹」氣氛。不過，我覺得改譯名的觀點並非全然沒有道理。而且不滿意「批判思考」這個翻譯的，大有人在。如果沒有弄錯，龍應台在2008年一場演講中也曾提議以「思辨能力」代替「批判思考」。</p><p>擱開政治動機不談，這個討論當中有幾個意見和論據值得留意。首先，葉劉淑儀在立法會 CB(2)222/08-09(01) 號文件說 critical thinking 最早是美國學者 Edward Glaser 於1941年提出的，鄭國漢也好像認同。不過這個顯然是錯了。其實 critical thinking 更早期的主要提倡者為美國哲學和教育學家杜威（Dewey），即是胡適的博士論文老師。（Dewey之前有沒有我就不知道了。）杜威 1910年的著作「How We Think」提倡「reflective thought」，很多人等同為「critical thinking」。但杜威在書中其實也有用過「critical thinking」一詞：</p><blockquote><p>“The essence of critical thinking is suspended judgment; and the essence of this suspense is inquiry to determine the nature of the problem before proceeding to attempts at its solution.” （74頁）</p></blockquote><p>以葉劉淑儀和鄭國漢倡議的「慎思明辨」來粗略形容 Dewey 和其他如 Glaser, Robert Ennis 等後來的學者對 critical thinking 的看法，我覺得問題不大，但這是否代表「critical thinking」不應譯作「批判思考」，而應該改為「思辨」或「明辨思考」呢？</p><p>有些支持「批判思考」譯法的人，會以歐陸哲學的批判傳統作為依據。朗天便以德國哲學家康德的《純粹理性批判》等三大巨著，以及其後歐陸哲學發展出來的批判理論 (critical theory) 為例子，指出「critical 」確實有批判社會及文化現象的意思。所以他覺得「critical thinking」用上「批判」一詞是恰當的。</p><p>不過，這個論據假設了「critical thinking」也是來自同一個思潮。這個我不太同意。教育哲學中有一套理論稱為「critical pedagogy」,確是源於批判理論，著眼點是反省和批判教育體制，理解意識型態和霸權對教育的操控，從而作出反抗而得到解放。「Critical pedagogy」翻譯為「批判教學論」，相信很少人會有異議。 但「critical thinking」和「critical pedagogy」並不一樣。杜威 1910年的「reflective thought」和「critical thinking」，大意是指審慎嚴謹的思考，當時批判理論尚未成形，而後來研究「critical thinking」的很多著名學者（例如Robert Ennis），也不是以批判理論或批判教學論的角度來界定這個概念的。他們的用法，與「critical analysis」裡面的「critical」較接近，和批評沒有必然的關係。當然，我認為 critical thinking 不單是可以，也是絕對應該用來批判建制，但這並不代表批判理論所指的批判是 critical thinking 的核心理念。</p><p>我自己對「critical thinking」應該如何翻譯，沒有強烈的意見。不過，「批判思考」由來已久，也在兩岸三地通行。這個翻譯可能不完美，但作為一個專用術語，大部份人現在都知道是指 critical thinking。教育局2014年回覆葉劉淑儀時說會以後採用「明辨（批判）性思考能力」作為「critical thinking」 的中譯，我覺得反而是多此一舉。</p><p>葉劉淑儀等人認為有些人會把「批判思考」誤解為批評別人。但他們好像沒有提供任何證據說明這個誤解到底有幾普遍。我自己覺得很多執於偏激批評的人，是性情或價值上出了問題，而非對「批判思考」有誤解。 而就算有，這個誤解稍加解釋便可以消除，不一定要修改既有的翻譯。況且，如眾人所言，「critical 」在英文起碼有兩個意思，所以「critical thinking」其實也有機會引致相同的誤解。而如果把中文「批判」二字拆開來看，「批」和「判」可以用於「批註」、「眉批」、「論批」、「判別」等詞語。這些詞語都帶有分析和評論的意思，不一定涉及負面的批評。</p><p>無論如何，即使「批判思考」使人聯想起批判，這也沒有什麼大不了。這個世代，荒謬恐怖的事情和混亂的思考多的是。思考方法在社會的一個主要功能，便是要指出這些不合理的現象。定義上「批判思考」當然不等同批判，但思考方法在實際運用上很難避免一定程度的批判。社會欠缺批判精神，何以進步？葉劉淑儀以為年輕人習慣批判社會是「先天與建制對立」，其實反映了她以為批判便是負面對立的誤解。葉劉淑儀在美國留學，照道理應該明白在西方的學術傳統中，批評不一定是負面的行為。學者最怕的便是沒有人批評自己的理論。著名的學者退休，最光榮的事情莫過於行內的學術巨頭和學生聚首一堂，討論和批評自己的論述，共同拓展知識的領域。而就算不講學術傳統，我不知道葉劉淑儀作為一個母親，有沒有曾經對女兒講過類似「我罵你是為你好」這樣的說話。市民對建制的批評，可以是沿於對社會的逼切關心和焦慮。建制派先天擁有強大的權力和資源，不應該把批評者看成敵人，而是應該虛心聆聽。然而，這恐怕只是空想。當批判思考的批判對象是既得利益和千絲萬縷的裙帶關係，批判者自然變成了對立的敵人，引來無數有形無形的打壓。教育局如何翻譯「critical thinking」都好，批判的思考和精神，絕對不可以放棄。</p></div></div></body></html>\n"
     ]
    }
   ],
   "source": [
    "from IPython.core.display import HTML\n",
    "print readable_article"
   ]
  },
  {
   "cell_type": "code",
   "execution_count": 71,
   "metadata": {
    "collapsed": false
   },
   "outputs": [],
   "source": [
    "from BeautifulSoup import BeautifulSoup"
   ]
  },
  {
   "cell_type": "code",
   "execution_count": 72,
   "metadata": {
    "collapsed": true
   },
   "outputs": [],
   "source": [
    "cleantext = BeautifulSoup(readable_article).text"
   ]
  },
  {
   "cell_type": "code",
   "execution_count": 73,
   "metadata": {
    "collapsed": false
   },
   "outputs": [
    {
     "name": "stdout",
     "output_type": "stream",
     "text": [
      "【文：劉彥方】根據明報 2015年5月17日報導，葉劉淑儀於商台節目中批評香港教育局把「critical thinking」譯作「批判思考」。她認為這是錯誤的，容易令年輕人以為思考就是為了批判社會，使他們「先天與建制對立」。一個星期後，嶺大校長鄭國漢在培僑中學畢業禮致辭時，也提出類似的講法，並認為「critical thinking」的正確翻譯應該是「慎思明辨」。葉劉淑儀不滿意「critical thinking」的翻譯，並非近期的事。早在 2007 年她已經有這樣的看法，2008年亦曾經在立法會要求政府把「critical thinking」的官方翻譯改為「明辨性思考」或「分辨性思考」。2014年12月，她再重提要求，並在立法會文件中引述相信是我在港大《思方網》的觀點，指出批判思考並非要我們刻意不停找別人錯處。[註5,6]建制人士要為「critical thinking」改名，當然背後可能有政治動機。朗天便曾經在明報撰文，認為這只是「語言偽術」，目的是要打壓年輕人的獨立思考，製造「河蟹」氣氛。不過，我覺得改譯名的觀點並非全然沒有道理。而且不滿意「批判思考」這個翻譯的，大有人在。如果沒有弄錯，龍應台在2008年一場演講中也曾提議以「思辨能力」代替「批判思考」。擱開政治動機不談，這個討論當中有幾個意見和論據值得留意。首先，葉劉淑儀在立法會 CB(2)222/08-09(01) 號文件說 critical thinking 最早是美國學者 Edward Glaser 於1941年提出的，鄭國漢也好像認同。不過這個顯然是錯了。其實 critical thinking 更早期的主要提倡者為美國哲學和教育學家杜威（Dewey），即是胡適的博士論文老師。（Dewey之前有沒有我就不知道了。）杜威 1910年的著作「How We Think」提倡「reflective thought」，很多人等同為「critical thinking」。但杜威在書中其實也有用過「critical thinking」一詞：“The essence of critical thinking is suspended judgment; and the essence of this suspense is inquiry to determine the nature of the problem before proceeding to attempts at its solution.” （74頁）以葉劉淑儀和鄭國漢倡議的「慎思明辨」來粗略形容 Dewey 和其他如 Glaser, Robert Ennis 等後來的學者對 critical thinking 的看法，我覺得問題不大，但這是否代表「critical thinking」不應譯作「批判思考」，而應該改為「思辨」或「明辨思考」呢？有些支持「批判思考」譯法的人，會以歐陸哲學的批判傳統作為依據。朗天便以德國哲學家康德的《純粹理性批判》等三大巨著，以及其後歐陸哲學發展出來的批判理論 (critical theory) 為例子，指出「critical 」確實有批判社會及文化現象的意思。所以他覺得「critical thinking」用上「批判」一詞是恰當的。不過，這個論據假設了「critical thinking」也是來自同一個思潮。這個我不太同意。教育哲學中有一套理論稱為「critical pedagogy」,確是源於批判理論，著眼點是反省和批判教育體制，理解意識型態和霸權對教育的操控，從而作出反抗而得到解放。「Critical pedagogy」翻譯為「批判教學論」，相信很少人會有異議。 但「critical thinking」和「critical pedagogy」並不一樣。杜威 1910年的「reflective thought」和「critical thinking」，大意是指審慎嚴謹的思考，當時批判理論尚未成形，而後來研究「critical thinking」的很多著名學者（例如Robert Ennis），也不是以批判理論或批判教學論的角度來界定這個概念的。他們的用法，與「critical analysis」裡面的「critical」較接近，和批評沒有必然的關係。當然，我認為 critical thinking 不單是可以，也是絕對應該用來批判建制，但這並不代表批判理論所指的批判是 critical thinking 的核心理念。我自己對「critical thinking」應該如何翻譯，沒有強烈的意見。不過，「批判思考」由來已久，也在兩岸三地通行。這個翻譯可能不完美，但作為一個專用術語，大部份人現在都知道是指 critical thinking。教育局2014年回覆葉劉淑儀時說會以後採用「明辨（批判）性思考能力」作為「critical thinking」 的中譯，我覺得反而是多此一舉。葉劉淑儀等人認為有些人會把「批判思考」誤解為批評別人。但他們好像沒有提供任何證據說明這個誤解到底有幾普遍。我自己覺得很多執於偏激批評的人，是性情或價值上出了問題，而非對「批判思考」有誤解。 而就算有，這個誤解稍加解釋便可以消除，不一定要修改既有的翻譯。況且，如眾人所言，「critical 」在英文起碼有兩個意思，所以「critical thinking」其實也有機會引致相同的誤解。而如果把中文「批判」二字拆開來看，「批」和「判」可以用於「批註」、「眉批」、「論批」、「判別」等詞語。這些詞語都帶有分析和評論的意思，不一定涉及負面的批評。無論如何，即使「批判思考」使人聯想起批判，這也沒有什麼大不了。這個世代，荒謬恐怖的事情和混亂的思考多的是。思考方法在社會的一個主要功能，便是要指出這些不合理的現象。定義上「批判思考」當然不等同批判，但思考方法在實際運用上很難避免一定程度的批判。社會欠缺批判精神，何以進步？葉劉淑儀以為年輕人習慣批判社會是「先天與建制對立」，其實反映了她以為批判便是負面對立的誤解。葉劉淑儀在美國留學，照道理應該明白在西方的學術傳統中，批評不一定是負面的行為。學者最怕的便是沒有人批評自己的理論。著名的學者退休，最光榮的事情莫過於行內的學術巨頭和學生聚首一堂，討論和批評自己的論述，共同拓展知識的領域。而就算不講學術傳統，我不知道葉劉淑儀作為一個母親，有沒有曾經對女兒講過類似「我罵你是為你好」這樣的說話。市民對建制的批評，可以是沿於對社會的逼切關心和焦慮。建制派先天擁有強大的權力和資源，不應該把批評者看成敵人，而是應該虛心聆聽。然而，這恐怕只是空想。當批判思考的批判對象是既得利益和千絲萬縷的裙帶關係，批判者自然變成了對立的敵人，引來無數有形無形的打壓。教育局如何翻譯「critical thinking」都好，批判的思考和精神，絕對不可以放棄。\n"
     ]
    }
   ],
   "source": [
    "print cleantext"
   ]
  },
  {
   "cell_type": "code",
   "execution_count": null,
   "metadata": {
    "collapsed": true
   },
   "outputs": [],
   "source": []
  }
 ],
 "metadata": {
  "kernelspec": {
   "display_name": "Python 2",
   "language": "python",
   "name": "python2"
  },
  "language_info": {
   "codemirror_mode": {
    "name": "ipython",
    "version": 2
   },
   "file_extension": ".py",
   "mimetype": "text/x-python",
   "name": "python",
   "nbconvert_exporter": "python",
   "pygments_lexer": "ipython2",
   "version": "2.7.11"
  }
 },
 "nbformat": 4,
 "nbformat_minor": 0
}
